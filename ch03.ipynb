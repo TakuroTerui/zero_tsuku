{
  "nbformat": 4,
  "nbformat_minor": 0,
  "metadata": {
    "colab": {
      "name": "3章_ニューラルネットワーク.ipynb",
      "provenance": [],
      "authorship_tag": "ABX9TyM0pTWnhWugsCTOfOrh/d/k",
      "include_colab_link": true
    },
    "kernelspec": {
      "name": "python3",
      "display_name": "Python 3"
    },
    "language_info": {
      "name": "python"
    }
  },
  "cells": [
    {
      "cell_type": "markdown",
      "metadata": {
        "id": "view-in-github",
        "colab_type": "text"
      },
      "source": [
        "<a href=\"https://colab.research.google.com/github/TakuroTerui/zero_tsuku/blob/master/ch03.ipynb\" target=\"_parent\"><img src=\"https://colab.research.google.com/assets/colab-badge.svg\" alt=\"Open In Colab\"/></a>"
      ]
    },
    {
      "cell_type": "markdown",
      "source": [
        "### ステップ関数"
      ],
      "metadata": {
        "id": "swdSlm0jPwsI"
      }
    },
    {
      "cell_type": "code",
      "execution_count": 1,
      "metadata": {
        "id": "J2uG_KDSOioO"
      },
      "outputs": [],
      "source": [
        "def step_function(x):\n",
        "    if x > 0:\n",
        "        return 1\n",
        "    else:\n",
        "        return 0"
      ]
    },
    {
      "cell_type": "code",
      "source": [
        "import numpy as np"
      ],
      "metadata": {
        "id": "Rc50F0vsOvIb"
      },
      "execution_count": 2,
      "outputs": []
    },
    {
      "cell_type": "code",
      "source": [
        "def step_function(x):\n",
        "    y = x > 0\n",
        "    return y.astype(np.int)"
      ],
      "metadata": {
        "id": "19wrXevkO7Df"
      },
      "execution_count": 3,
      "outputs": []
    },
    {
      "cell_type": "code",
      "source": [
        "import matplotlib.pyplot as plt\n",
        "\n",
        "x = np.arange(-5.0, 5.0, 0.1)\n",
        "y = step_function(x)\n",
        "plt.plot(x, y)\n",
        "plt.ylim(-0.1, 1.1)\n",
        "plt.show()"
      ],
      "metadata": {
        "colab": {
          "base_uri": "https://localhost:8080/",
          "height": 338
        },
        "id": "FKGfA6JOPPFA",
        "outputId": "732baa77-2784-433e-a761-ccad79b3c757"
      },
      "execution_count": 5,
      "outputs": [
        {
          "output_type": "stream",
          "name": "stderr",
          "text": [
            "/usr/local/lib/python3.7/dist-packages/ipykernel_launcher.py:3: DeprecationWarning: `np.int` is a deprecated alias for the builtin `int`. To silence this warning, use `int` by itself. Doing this will not modify any behavior and is safe. When replacing `np.int`, you may wish to use e.g. `np.int64` or `np.int32` to specify the precision. If you wish to review your current use, check the release note link for additional information.\n",
            "Deprecated in NumPy 1.20; for more details and guidance: https://numpy.org/devdocs/release/1.20.0-notes.html#deprecations\n",
            "  This is separate from the ipykernel package so we can avoid doing imports until\n"
          ]
        },
        {
          "output_type": "display_data",
          "data": {
            "text/plain": [
              "<Figure size 432x288 with 1 Axes>"
            ],
            "image/png": "[encoded data removed]"
          },
          "metadata": {
            "needs_background": "light"
          }
        }
      ]
    },
    {
      "cell_type": "markdown",
      "source": [
        "### シグモイド関数"
      ],
      "metadata": {
        "id": "PZRhJaFAPlih"
      }
    },
    {
      "cell_type": "code",
      "source": [
        "def sigmoid(x):\n",
        "    return 1 / (1 + np.exp(-x))"
      ],
      "metadata": {
        "id": "mLBMBpy4QfUt"
      },
      "execution_count": 9,
      "outputs": []
    },
    {
      "cell_type": "code",
      "source": [
        "x = np.arange(-5.0, 5.0, 0.1)\n",
        "y = sigmoid(x)\n",
        "plt.plot(x, y)\n",
        "plt.ylim(-0.1, 1.1)\n",
        "plt.show()"
      ],
      "metadata": {
        "colab": {
          "base_uri": "https://localhost:8080/",
          "height": 265
        },
        "id": "CvfReYwhQnGD",
        "outputId": "163dfeb0-c332-4ff3-b97e-677a74799f36"
      },
      "execution_count": 10,
      "outputs": [
        {
          "output_type": "display_data",
          "data": {
            "text/plain": [
              "<Figure size 432x288 with 1 Axes>"
            ],
            "image/png": "[encoded data removed]"
          },
          "metadata": {
            "needs_background": "light"
          }
        }
      ]
    },
    {
      "cell_type": "markdown",
      "source": [
        "### Relu関数"
      ],
      "metadata": {
        "id": "xfFgeE_yQ6U5"
      }
    },
    {
      "cell_type": "code",
      "source": [
        "def relu(x):\n",
        "    return np.maximum(0, x)"
      ],
      "metadata": {
        "id": "Oe1tXKS9R0T2"
      },
      "execution_count": 11,
      "outputs": []
    },
    {
      "cell_type": "markdown",
      "source": [
        "### 各層における信号伝達の実装"
      ],
      "metadata": {
        "id": "5pRSiSDQR7LG"
      }
    },
    {
      "cell_type": "code",
      "source": [
        "X = np.array([1.0, 0.5])\n",
        "W1 = np.array([[0.1, 0.3, 0.5], [0.2, 0.4, 0.6]])\n",
        "B1 = np.array([0.1, 0.2, 0.3])"
      ],
      "metadata": {
        "id": "ugUPW73XU2lj"
      },
      "execution_count": 13,
      "outputs": []
    },
    {
      "cell_type": "code",
      "source": [
        "print(W1.shape)\n",
        "print(X.shape)\n",
        "print(B1.shape)"
      ],
      "metadata": {
        "colab": {
          "base_uri": "https://localhost:8080/"
        },
        "id": "43zqh08qVJ1U",
        "outputId": "b8abcf83-b610-407c-848f-d437852aa4b0"
      },
      "execution_count": 14,
      "outputs": [
        {
          "output_type": "stream",
          "name": "stdout",
          "text": [
            "(2, 3)\n",
            "(2,)\n",
            "(3,)\n"
          ]
        }
      ]
    },
    {
      "cell_type": "code",
      "source": [
        "A1 = np.dot(X, W1) + B1"
      ],
      "metadata": {
        "id": "_a3w3Ga1VTq3"
      },
      "execution_count": 15,
      "outputs": []
    },
    {
      "cell_type": "code",
      "source": [
        "Z1 = sigmoid(A1)\n",
        "print(A1)\n",
        "print(Z1)"
      ],
      "metadata": {
        "colab": {
          "base_uri": "https://localhost:8080/"
        },
        "id": "sb6EOsZmVYOo",
        "outputId": "af67a1bd-39ed-4bcf-a593-ab03ebdc561c"
      },
      "execution_count": 16,
      "outputs": [
        {
          "output_type": "stream",
          "name": "stdout",
          "text": [
            "[0.3 0.7 1.1]\n",
            "[0.57444252 0.66818777 0.75026011]\n"
          ]
        }
      ]
    },
    {
      "cell_type": "code",
      "source": [
        "W2 = np.array([[0.1, 0.4], [0.2, 0.5], [0.3, 0.6]])\n",
        "B2 = np.array([0.1, 0.2])"
      ],
      "metadata": {
        "id": "bSLZx5yFW9gz"
      },
      "execution_count": 17,
      "outputs": []
    },
    {
      "cell_type": "code",
      "source": [
        "A2 = np.dot(Z1, W2) + B2\n",
        "Z2 = sigmoid(A2)"
      ],
      "metadata": {
        "id": "bP_p8MWfXSWS"
      },
      "execution_count": 18,
      "outputs": []
    },
    {
      "cell_type": "code",
      "source": [
        "def identify_function(x):\n",
        "    return x"
      ],
      "metadata": {
        "id": "Ljg6fRQ1XiWZ"
      },
      "execution_count": 19,
      "outputs": []
    },
    {
      "cell_type": "code",
      "source": [
        "W3 = np.array([[0.1, 0.3], [0.2, 0.4]])\n",
        "B3 = np.array([0.1, 0.3])\n",
        "A3 = np.dot(Z2, W3) + B3\n",
        "y = identify_function(A3)"
      ],
      "metadata": {
        "id": "5H0qjwMpXssx"
      },
      "execution_count": 20,
      "outputs": []
    },
    {
      "cell_type": "markdown",
      "source": [
        "### 実装のまとめ"
      ],
      "metadata": {
        "id": "BoYprLOUfjcR"
      }
    },
    {
      "cell_type": "code",
      "source": [
        "def init_network():\n",
        "    network = {}\n",
        "    network['W1'] = np.array([[0.1, 0.3, 0.5], [0.2, 0.4, 0.6]])\n",
        "    network['b1'] = np.array([0.1, 0.2, 0.3])\n",
        "    network['W2'] = np.array([[0.1, 0.4], [0.2, 0.5], [0.3, 0.6]])\n",
        "    network['b2'] = np.array([0.1, 0.2])\n",
        "    network['W3'] = np.array([[0.1, 0.3], [0.2, 0.4]])\n",
        "    network['b3'] = np.array([0.1, 0.2])\n",
        "    return network"
      ],
      "metadata": {
        "id": "FYfhIOBSftJL"
      },
      "execution_count": 21,
      "outputs": []
    },
    {
      "cell_type": "code",
      "source": [
        "def forward(network, x):\n",
        "    W1, W2, W3 = network['W1'], network['W2'], network['W3']\n",
        "    b1, b2, b3 = network['b1'], network['b2'], network['b3']\n",
        "\n",
        "    a1 = np.dot(x, W1) + b1\n",
        "    z1 = sigmoid(a1)\n",
        "    a2 = np.dot(z1, W2) + b2\n",
        "    z2 = sigmoid(a2)\n",
        "    a3 = np.dot(z2, W3) + b3\n",
        "    y = identify_function(a3)\n",
        "\n",
        "    return y"
      ],
      "metadata": {
        "id": "tZHH4-4lgO7d"
      },
      "execution_count": 22,
      "outputs": []
    },
    {
      "cell_type": "code",
      "source": [
        "network = init_network()\n",
        "x = np.array([1.0, 0.5])\n",
        "y = forward(network, x)\n",
        "print(y)"
      ],
      "metadata": {
        "colab": {
          "base_uri": "https://localhost:8080/"
        },
        "id": "arSKV0kUg3qb",
        "outputId": "0648bce9-0d44-4b0d-e5fb-5c9bda3577d7"
      },
      "execution_count": 23,
      "outputs": [
        {
          "output_type": "stream",
          "name": "stdout",
          "text": [
            "[0.31682708 0.69627909]\n"
          ]
        }
      ]
    },
    {
      "cell_type": "markdown",
      "source": [
        "### ソフトマックス関数"
      ],
      "metadata": {
        "id": "Z3P9WU02hGiY"
      }
    },
    {
      "cell_type": "code",
      "source": [
        "a = np.array([0.3, 2.9, 4.0])\n",
        "exp_a = np.exp(a)\n",
        "print(exp_a)"
      ],
      "metadata": {
        "colab": {
          "base_uri": "https://localhost:8080/"
        },
        "id": "zGGRHmtPhqJT",
        "outputId": "1de8588e-fa21-4321-bf24-e5d1b7a7c4b9"
      },
      "execution_count": 24,
      "outputs": [
        {
          "output_type": "stream",
          "name": "stdout",
          "text": [
            "[ 1.34985881 18.17414537 54.59815003]\n"
          ]
        }
      ]
    },
    {
      "cell_type": "code",
      "source": [
        "sum_exp_a = np.sum(exp_a)\n",
        "print(sum_exp_a)"
      ],
      "metadata": {
        "colab": {
          "base_uri": "https://localhost:8080/"
        },
        "id": "1vVxALP8h0Ug",
        "outputId": "a12b49c2-b18e-48d5-a287-c9d47de902de"
      },
      "execution_count": 25,
      "outputs": [
        {
          "output_type": "stream",
          "name": "stdout",
          "text": [
            "74.1221542101633\n"
          ]
        }
      ]
    },
    {
      "cell_type": "code",
      "source": [
        "y = exp_a / sum_exp_a\n",
        "print(y)"
      ],
      "metadata": {
        "colab": {
          "base_uri": "https://localhost:8080/"
        },
        "id": "5NZGXhkBh-J5",
        "outputId": "33707369-01cf-47b8-b234-21dcf8a6504c"
      },
      "execution_count": 26,
      "outputs": [
        {
          "output_type": "stream",
          "name": "stdout",
          "text": [
            "[0.01821127 0.24519181 0.73659691]\n"
          ]
        }
      ]
    },
    {
      "cell_type": "code",
      "source": [
        "def softmax(a):\n",
        "    exp_a = np.exp(a)\n",
        "    sum_exp_a = np.sum(exp_a)\n",
        "    y = exp_a / sum_exp_a\n",
        "    return y"
      ],
      "metadata": {
        "id": "yG9ceGCxiDmT"
      },
      "execution_count": 27,
      "outputs": []
    },
    {
      "cell_type": "code",
      "source": [
        "def softmax(a):\n",
        "    c = np.max(a)\n",
        "    exp_a = np.exp(a - c)\n",
        "    sum_exp_a = np.sum(exp_a)\n",
        "    y = exp_a / sum_exp_a\n",
        "    return y"
      ],
      "metadata": {
        "id": "eW5bTUveiSh2"
      },
      "execution_count": 28,
      "outputs": []
    },
    {
      "cell_type": "code",
      "source": [
        "from keras.datasets import mnist\n",
        "(x_train, t_train), (x_test, t_test) = mnist.load_data()"
      ],
      "metadata": {
        "colab": {
          "base_uri": "https://localhost:8080/"
        },
        "id": "P8HGtW0NjEqw",
        "outputId": "0f6bcaff-8518-47e0-9bbc-8e6d3d33290c"
      },
      "execution_count": 30,
      "outputs": [
        {
          "output_type": "stream",
          "name": "stdout",
          "text": [
            "Downloading data from https://storage.googleapis.com/tensorflow/tf-keras-datasets/mnist.npz\n",
            "11493376/11490434 [==============================] - 0s 0us/step\n",
            "11501568/11490434 [==============================] - 0s 0us/step\n"
          ]
        }
      ]
    },
    {
      "cell_type": "code",
      "source": [
        "print(x_train.shape)\n",
        "print(t_train.shape)\n",
        "print(x_test.shape)\n",
        "print(t_test.shape)"
      ],
      "metadata": {
        "colab": {
          "base_uri": "https://localhost:8080/"
        },
        "id": "FncPvlnel_VR",
        "outputId": "c6922831-d7a0-47f1-d779-416c838110bb"
      },
      "execution_count": 31,
      "outputs": [
        {
          "output_type": "stream",
          "name": "stdout",
          "text": [
            "(60000, 28, 28)\n",
            "(60000,)\n",
            "(10000, 28, 28)\n",
            "(10000,)\n"
          ]
        }
      ]
    },
    {
      "cell_type": "code",
      "source": [
        "from PIL import Image\n",
        "def img_show(img):\n",
        "    pil_img = Image.fromarray(np.uint8(img))\n",
        "    pil_img.show()"
      ],
      "metadata": {
        "id": "5EKIz2I7mdQa"
      },
      "execution_count": 40,
      "outputs": []
    },
    {
      "cell_type": "code",
      "source": [
        "img = x_train[0]\n",
        "label = t_train[0]\n",
        "print(label)"
      ],
      "metadata": {
        "colab": {
          "base_uri": "https://localhost:8080/"
        },
        "id": "vIit_Y_5m9ya",
        "outputId": "2e9f35c8-eb30-4c3f-d28b-ca1935896e48"
      },
      "execution_count": 41,
      "outputs": [
        {
          "output_type": "stream",
          "name": "stdout",
          "text": [
            "5\n"
          ]
        }
      ]
    },
    {
      "cell_type": "code",
      "source": [
        "print(img.shape)"
      ],
      "metadata": {
        "colab": {
          "base_uri": "https://localhost:8080/"
        },
        "id": "wxufUiqWnD3w",
        "outputId": "219dfe4f-e07f-474b-e120-f75b1c9025bb"
      },
      "execution_count": 42,
      "outputs": [
        {
          "output_type": "stream",
          "name": "stdout",
          "text": [
            "(28, 28)\n"
          ]
        }
      ]
    },
    {
      "cell_type": "code",
      "source": [
        "img_show(img)"
      ],
      "metadata": {
        "id": "gcx3zev1nHwG"
      },
      "execution_count": 43,
      "outputs": []
    },
    {
      "cell_type": "code",
      "source": [
        "def get_data():\n",
        "    (x_train, t_train), (x_test, t_test) = mnist.load_data()\n",
        "    x_test = x_test.reshape(10000, 784)  \n",
        "    x_test = x_test.reshape(10000, 784) / 255.0\n",
        "    return x_test, t_test"
      ],
      "metadata": {
        "id": "j5Rp8r0mnLpE"
      },
      "execution_count": 73,
      "outputs": []
    },
    {
      "cell_type": "code",
      "source": [
        "def predict(network, x):\n",
        "    W1, W2, W3 = network['W1'], network['W2'], network['W3']\n",
        "    b1, b2, b3 = network['b1'], network['b2'], network['b3']\n",
        "\n",
        "    a1 = np.dot(x, W1) + b1\n",
        "    z1 = sigmoid(a1)\n",
        "    a2 = np.dot(z1, W2) + b2\n",
        "    z2 = sigmoid(a2)\n",
        "    a3 = np.dot(z2, W3) + b3\n",
        "    z3 = sigmoid(a3)\n",
        "    y = softmax(a3)\n",
        "    return y"
      ],
      "metadata": {
        "id": "b906O2SIoH57"
      },
      "execution_count": 74,
      "outputs": []
    },
    {
      "cell_type": "code",
      "source": [
        "def init_network():\n",
        "    with open('sample_weight.pkl', 'rb') as f:\n",
        "        network = pickle.load(f)\n",
        "    return network"
      ],
      "metadata": {
        "id": "zUNf7E79q6cO"
      },
      "execution_count": 75,
      "outputs": []
    },
    {
      "cell_type": "code",
      "source": [
        "import pickle\n",
        "x, t = get_data()\n",
        "network = init_network()"
      ],
      "metadata": {
        "id": "PfK46R82oskJ"
      },
      "execution_count": 76,
      "outputs": []
    },
    {
      "cell_type": "code",
      "source": [
        "x.shape"
      ],
      "metadata": {
        "colab": {
          "base_uri": "https://localhost:8080/"
        },
        "id": "JgAuhCI-p1iw",
        "outputId": "9cb2cac8-5673-432e-da64-ff515fc0b53f"
      },
      "execution_count": 77,
      "outputs": [
        {
          "output_type": "execute_result",
          "data": {
            "text/plain": [
              "(10000, 784)"
            ]
          },
          "metadata": {},
          "execution_count": 77
        }
      ]
    },
    {
      "cell_type": "code",
      "source": [
        "accuracy_cnt = 0\n",
        "for i in range(len(x)):\n",
        "    y = predict(network, x[i])\n",
        "    p = np.argmax(y)\n",
        "    if p == t[i]:\n",
        "        accuracy_cnt += 1\n",
        "print('Accuracy:' + str(float(accuracy_cnt) / len(x)))"
      ],
      "metadata": {
        "colab": {
          "base_uri": "https://localhost:8080/"
        },
        "id": "sVLzcxFsozgG",
        "outputId": "8e824c57-fc15-448b-b6af-6f4f449c18ba"
      },
      "execution_count": 78,
      "outputs": [
        {
          "output_type": "stream",
          "name": "stdout",
          "text": [
            "Accuracy:0.9352\n"
          ]
        }
      ]
    },
    {
      "cell_type": "markdown",
      "source": [
        "### バッチ処理"
      ],
      "metadata": {
        "id": "iCdDlHUqpVIG"
      }
    },
    {
      "cell_type": "code",
      "source": [
        "x, t = get_data()\n",
        "network = init_network()"
      ],
      "metadata": {
        "id": "Ai-auNuSsxrF"
      },
      "execution_count": 79,
      "outputs": []
    },
    {
      "cell_type": "code",
      "source": [
        "batch_size = 100\n",
        "accuracy_cnt = 0\n",
        "\n",
        "for i in range(0, len(x), batch_size):\n",
        "    x_batch = x[i:i+batch_size]\n",
        "    y_batch = predict(network, x_batch)\n",
        "    p = np.argmax(y_batch, axis=1)\n",
        "    accuracy_cnt += np.sum(p == t[i:i+batch_size])\n",
        "print('Accuracy:' + str(float(accuracy_cnt) / len(x)))"
      ],
      "metadata": {
        "colab": {
          "base_uri": "https://localhost:8080/"
        },
        "id": "3c4jcn8gu1vI",
        "outputId": "637b844f-e098-4a52-88d9-c951c4054601"
      },
      "execution_count": 80,
      "outputs": [
        {
          "output_type": "stream",
          "name": "stdout",
          "text": [
            "Accuracy:0.9352\n"
          ]
        }
      ]
    },
    {
      "cell_type": "code",
      "source": [
        ""
      ],
      "metadata": {
        "id": "lyyh2hDUvgPm"
      },
      "execution_count": null,
      "outputs": []
    }
  ]
}